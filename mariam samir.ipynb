{
 "cells": [
  {
   "cell_type": "code",
   "execution_count": 34,
   "id": "081fc0f5",
   "metadata": {},
   "outputs": [
    {
     "name": "stdout",
     "output_type": "stream",
     "text": [
      "enter a number5\n",
      "enter a number5\n",
      "enter a number5\n",
      "not big nember\n"
     ]
    }
   ],
   "source": [
    "n1=int(input(\"enter a number\"))\n",
    "n2=int(input(\"enter a number\"))\n",
    "n3=int(input(\"enter a number\"))\n",
    "def x(b,n,m):\n",
    "    if b>n and b>m:\n",
    "        print(b)\n",
    "    elif n>b and b>m:\n",
    "        print(n)\n",
    "    elif m>b and m>n:\n",
    "        print(m)\n",
    "    else:\n",
    "        print(\" is not big nember\")\n",
    "x (n1,n2,n3)"
   ]
  },
  {
   "cell_type": "markdown",
   "id": "c82c2fdb",
   "metadata": {},
   "source": []
  }
 ],
 "metadata": {
  "kernelspec": {
   "display_name": "Python 3 (ipykernel)",
   "language": "python",
   "name": "python3"
  },
  "language_info": {
   "codemirror_mode": {
    "name": "ipython",
    "version": 3
   },
   "file_extension": ".py",
   "mimetype": "text/x-python",
   "name": "python",
   "nbconvert_exporter": "python",
   "pygments_lexer": "ipython3",
   "version": "3.11.4"
  }
 },
 "nbformat": 4,
 "nbformat_minor": 5
}
